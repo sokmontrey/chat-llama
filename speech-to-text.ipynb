{
 "cells": [
  {
   "cell_type": "code",
   "execution_count": 39,
   "metadata": {},
   "outputs": [],
   "source": [
    "import speech_recognition as sr"
   ]
  },
  {
   "cell_type": "code",
   "execution_count": 48,
   "metadata": {},
   "outputs": [],
   "source": [
    "recognizer = sr.Recognizer()\n",
    "recognizer.dynamic_energy_threshold = False\n",
    "recognizer.energy_threshold = 4000\n",
    "\n",
    "mic = sr.Microphone()\n",
    "with mic:\n",
    "    recognizer.adjust_for_ambient_noise(mic)"
   ]
  },
  {
   "cell_type": "code",
   "execution_count": 49,
   "metadata": {},
   "outputs": [],
   "source": [
    "def listen(mic, recognizer):\n",
    "    with mic:\n",
    "        print(\"Say something!\")\n",
    "        audio_data = recognizer.listen(mic)\n",
    "        print(\"Got it!\")\n",
    "    try:\n",
    "        text = recognizer.recognize_google(audio_data)\n",
    "        return text\n",
    "    except sr.UnknownValueError:\n",
    "        print(\"Could not understand audio\")\n",
    "        return \"\"\n",
    "\n",
    "    except sr.RequestError as e:\n",
    "        print(\"Could not request results from Speech Recognition service; {0}\".format(e))\n",
    "        return \"\""
   ]
  },
  {
   "cell_type": "code",
   "execution_count": 50,
   "metadata": {},
   "outputs": [
    {
     "name": "stdout",
     "output_type": "stream",
     "text": [
      "Say something!\n",
      "Got it!\n"
     ]
    },
    {
     "data": {
      "text/plain": [
       "'how are you doing so far'"
      ]
     },
     "execution_count": 50,
     "metadata": {},
     "output_type": "execute_result"
    }
   ],
   "source": [
    "text = listen(mic, recorder)\n",
    "text"
   ]
  }
 ],
 "metadata": {
  "kernelspec": {
   "display_name": "Python 3",
   "language": "python",
   "name": "python3"
  },
  "language_info": {
   "codemirror_mode": {
    "name": "ipython",
    "version": 3
   },
   "file_extension": ".py",
   "mimetype": "text/x-python",
   "name": "python",
   "nbconvert_exporter": "python",
   "pygments_lexer": "ipython3",
   "version": "3.9.0"
  }
 },
 "nbformat": 4,
 "nbformat_minor": 2
}
